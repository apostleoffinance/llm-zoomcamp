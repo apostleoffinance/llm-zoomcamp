{
 "cells": [
  {
   "cell_type": "code",
   "execution_count": 1,
   "id": "591ece47",
   "metadata": {},
   "outputs": [
    {
     "name": "stderr",
     "output_type": "stream",
     "text": [
      "/usr/local/python/3.12.1/lib/python3.12/site-packages/tqdm/auto.py:21: TqdmWarning: IProgress not found. Please update jupyter and ipywidgets. See https://ipywidgets.readthedocs.io/en/stable/user_install.html\n",
      "  from .autonotebook import tqdm as notebook_tqdm\n"
     ]
    }
   ],
   "source": [
    "import os\n",
    "from dotenv import load_dotenv\n",
    "import google.generativeai as genai\n"
   ]
  },
  {
   "cell_type": "code",
   "execution_count": 2,
   "id": "4fe7b557",
   "metadata": {},
   "outputs": [
    {
     "name": "stdout",
     "output_type": "stream",
     "text": [
      "Whether it's too late to join a course depends entirely on the course itself.  To answer your question, I need more information.  Please tell me:\n",
      "\n",
      "* **What course is it?** (e.g., a university course, an online course, a workshop, etc.)\n",
      "* **Where is the course offered?** (e.g., name of university, platform name)\n",
      "* **When does the course start and end?**\n",
      "* **Is there a deadline for registration?**\n",
      "\n",
      "With this information, I can help you determine if you can still join.\n",
      "\n"
     ]
    }
   ],
   "source": [
    "# Load .env variables\n",
    "load_dotenv()\n",
    "\n",
    "# Get the key from the environment\n",
    "api_key_gemini = os.getenv(\"API_KEY_GEMINI\")\n",
    "\n",
    "# Configure Gemini client\n",
    "genai.configure(api_key=api_key_gemini)\n",
    "\n",
    "model = genai.GenerativeModel(model_name=\"gemini-1.5-flash\")  # or \"gemini-1.5-pro\"\n",
    "\n",
    "response = model.generate_content(\"Is it too late to join the course?\")\n",
    "\n",
    "print(response.text)"
   ]
  },
  {
   "cell_type": "code",
   "execution_count": 3,
   "id": "0948e741-84fc-44cd-9a67-062d05d72173",
   "metadata": {},
   "outputs": [],
   "source": [
    "# os.environ"
   ]
  },
  {
   "cell_type": "code",
   "execution_count": null,
   "id": "6dae0746-7a96-4cf8-9510-cc89c8e96b83",
   "metadata": {},
   "outputs": [],
   "source": []
  }
 ],
 "metadata": {
  "kernelspec": {
   "display_name": "Python 3",
   "language": "python",
   "name": "python3"
  },
  "language_info": {
   "codemirror_mode": {
    "name": "ipython",
    "version": 3
   },
   "file_extension": ".py",
   "mimetype": "text/x-python",
   "name": "python",
   "nbconvert_exporter": "python",
   "pygments_lexer": "ipython3",
   "version": "3.12.1"
  }
 },
 "nbformat": 4,
 "nbformat_minor": 5
}
